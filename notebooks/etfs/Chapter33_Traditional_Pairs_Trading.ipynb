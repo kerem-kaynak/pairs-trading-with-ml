{
 "cells": [
  {
   "cell_type": "code",
   "execution_count": 14,
   "metadata": {},
   "outputs": [],
   "source": [
    "# Choose pairs based on correlation\n",
    "\n",
    "# Imports, read and preview data\n",
    "\n",
    "import pandas as pd\n",
    "import numpy as np\n",
    "import matplotlib.pyplot as plt\n",
    "import pickle\n",
    "from sklearn.preprocessing import MinMaxScaler\n",
    "from sklearn.metrics import mean_squared_error, mean_absolute_error\n",
    "from scipy.stats import linregress\n",
    "\n",
    "df = pd.read_csv(\"../../data/etf_prices.csv\")\n",
    "df.set_index(\"Timestamp\", inplace=True)\n",
    "\n",
    "nan_percentages = df.isna().mean()[1:] * 100\n",
    "\n",
    "valid_etfs = nan_percentages[nan_percentages == 0]\n",
    "df = df[valid_etfs.index]\n",
    "\n",
    "valid_columns = df.columns[df.iloc[0].notna() & df.iloc[-1].notna()]\n",
    "df = df[valid_columns]\n",
    "\n",
    "df_returns = df.pct_change().iloc[1:]"
   ]
  },
  {
   "cell_type": "code",
   "execution_count": 15,
   "metadata": {},
   "outputs": [
    {
     "name": "stdout",
     "output_type": "stream",
     "text": [
      "[['USIG', 'VTC'], ['EMB', 'VWOB'], ['IGSB', 'VCSH'], ['VONE', 'VTHR'], ['SMH', 'SOXX'], ['IXUS', 'VXUS'], ['TLT', 'VGLT'], ['IGIB', 'VCIT'], ['ESGU', 'VONE'], ['CATH', 'VONE'], ['ACWX', 'IXUS'], ['MBB', 'VMBS'], ['IGSB', 'SUSB'], ['SUSC', 'USIG'], ['ESGU', 'VTHR'], ['CFA', 'FEX'], ['ACWX', 'VXUS'], ['CATH', 'ESGU'], ['SUSC', 'VTC']]\n"
     ]
    }
   ],
   "source": [
    "correlation_matrix = df.corr()\n",
    "\n",
    "# Unstack the correlation matrix to a Series\n",
    "correlation_pairs = correlation_matrix.unstack()\n",
    "\n",
    "# Drop self-correlations (correlation of an asset with itself)\n",
    "correlation_pairs = correlation_pairs[correlation_pairs != 1]\n",
    "\n",
    "# Convert the multi-index Series to DataFrame to better handle potential issues\n",
    "correlation_pairs_df = correlation_pairs.reset_index()\n",
    "correlation_pairs_df.columns = ['Asset1', 'Asset2', 'Correlation']\n",
    "\n",
    "# Drop duplicate pairs (keep only one of each pair)\n",
    "# Sort by 'Asset1' and 'Asset2' to ensure pairs are consistently ordered\n",
    "correlation_pairs_df = correlation_pairs_df[correlation_pairs_df['Asset1'] < correlation_pairs_df['Asset2']]\n",
    "\n",
    "# Sort the values to find the highest correlations\n",
    "sorted_correlation_pairs = correlation_pairs_df.sort_values(by='Correlation', ascending=False)\n",
    "\n",
    "# Select the top 19 pairs with the highest correlation\n",
    "top_19_correlation_pairs = sorted_correlation_pairs.head(19)\n",
    "\n",
    "# Convert the top 19 pairs to a list of lists\n",
    "top_19_pairs_list = top_19_correlation_pairs[['Asset1', 'Asset2']].values.tolist()\n",
    "\n",
    "# Display the top 19 pairs as a list of lists\n",
    "print(top_19_pairs_list)\n",
    "\n"
   ]
  },
  {
   "cell_type": "code",
   "execution_count": 16,
   "metadata": {},
   "outputs": [
    {
     "name": "stdout",
     "output_type": "stream",
     "text": [
      "{'USIG_VTC': {'slope': 1.5492893773103313, 'intercept': -1.8535042751858697, 'mean': 3.3901712229076677e-15, 'std': 0.15275155249839034}, 'EMB_VWOB': {'slope': 0.6787847122137008, 'intercept': 3.6024836544172842, 'mean': -6.8732238491826685e-15, 'std': 0.1872106311094548}, 'IGSB_VCSH': {'slope': 1.5018278431871739, 'intercept': 0.4093135015042151, 'mean': 2.1084078564384673e-14, 'std': 0.06931909761440742}, 'VONE_VTHR': {'slope': 0.9875798030525276, 'intercept': 0.253816751293499, 'mean': -2.380859972982645e-14, 'std': 0.7783823359904095}, 'SMH_SOXX': {'slope': 1.1402095039979951, 'intercept': 2.2081009528764923, 'mean': -1.4025091908467338e-14, 'std': 1.0620759006222757}, 'IXUS_VXUS': {'slope': 0.8815331877363543, 'intercept': 0.9833013743124042, 'mean': 2.701300814599945e-15, 'std': 0.2230250488944103}, 'TLT_VGLT': {'slope': 0.60021770183031, 'intercept': 1.415290274469669, 'mean': -7.430512269386669e-16, 'std': 0.4105055683989476}, 'IGIB_VCIT': {'slope': 1.602668638914883, 'intercept': -1.7271617794954608, 'mean': -1.2074582437753336e-14, 'std': 0.22683700156825073}, 'ESGU_VONE': {'slope': 1.9882151457680153, 'intercept': 4.740000827405254, 'mean': -2.6749844169792007e-14, 'std': 1.100405673550142}, 'CATH_VONE': {'slope': 3.7250077232275607, 'intercept': 0.5887845313843911, 'mean': -8.963055424947669e-15, 'std': 1.2362413020041954}, 'ACWX_IXUS': {'slope': 1.317091369999111, 'intercept': -2.4162374912249263, 'mean': -5.433562096989001e-15, 'std': 0.32992154888435266}, 'MBB_VMBS': {'slope': 0.49642323489592655, 'intercept': -0.5013208527035076, 'mean': 6.819043030551724e-15, 'std': 0.12540649455591912}, 'IGSB_SUSB': {'slope': 0.45953544103008576, 'intercept': 0.8405459106445967, 'mean': 1.1455373081971114e-15, 'std': 0.03983985493458915}, 'SUSC_USIG': {'slope': 2.125539908501757, 'intercept': 1.8001273664236948, 'mean': -4.257064321002779e-16, 'std': 0.19724713706584523}, 'ESGU_VTHR': {'slope': 1.9629973030679533, 'intercept': 4.978660596954285, 'mean': -3.353018661560734e-14, 'std': 1.4840382417305198}, 'CFA_FEX': {'slope': 1.291781740063442, 'intercept': -6.816460915031271, 'mean': 6.966105252550002e-16, 'std': 0.6757790212534919}, 'ACWX_VXUS': {'slope': 1.1610290199668363, 'intercept': -1.145179806498689, 'mean': -4.644070168366668e-16, 'std': 0.36962532115201246}, 'CATH_ESGU': {'slope': 1.8709486922390028, 'intercept': -1.9694341510717095, 'mean': 8.529608875900114e-15, 'std': 0.7995351644143911}, 'SUSC_VTC': {'slope': 3.292728265680865, 'intercept': 0.9445205108330867, 'mean': 6.393336598451446e-15, 'std': 0.35308121746206494}}\n"
     ]
    }
   ],
   "source": [
    "# Compute spread\n",
    "spread_stats = {}\n",
    "\n",
    "\n",
    "for pair in top_19_pairs_list:\n",
    "    ticker_1 = pair[0]\n",
    "    ticker_2 = pair[1]\n",
    "\n",
    "    ticker_series_1 = df[ticker_1]\n",
    "    ticker_series_2 = df[ticker_2]\n",
    "\n",
    "    slope, intercept, _, _, _ = linregress(ticker_series_1, ticker_series_2)\n",
    "    spread = ticker_series_2 - (slope * ticker_series_1 + intercept)\n",
    "\n",
    "    spread_mean = np.mean(spread.values)\n",
    "    spread_std = np.std(spread.values)\n",
    "\n",
    "    spread_stats[f\"{ticker_1}_{ticker_2}\"] = {\n",
    "        \"slope\": slope,\n",
    "        \"intercept\": intercept,\n",
    "        \"mean\": spread_mean,\n",
    "        \"std\": spread_std\n",
    "    }\n"
   ]
  },
  {
   "cell_type": "code",
   "execution_count": null,
   "metadata": {},
   "outputs": [],
   "source": [
    "df = pd.read_csv(\"../../data/etf_prices_backtest.csv\")\n",
    "df.set_index(\"Timestamp\", inplace=True)\n",
    "\n",
    "nan_percentages = df.isna().mean()[1:] * 100\n",
    "\n",
    "valid_etfs = nan_percentages[nan_percentages == 0]\n",
    "df = df[valid_etfs.index]\n",
    "\n",
    "valid_columns = df.columns[df.iloc[0].notna() & df.iloc[-1].notna()]\n",
    "df = df[valid_columns]\n",
    "\n",
    "df_returns = df.pct_change().iloc[1:]\n",
    "\n",
    "for pair in top_19_pairs_list:\n",
    "    ticker_1 = pair[0]\n",
    "    ticker_2 = pair[1]\n",
    "\n",
    "    ticker_series_1 = df[ticker_1]\n",
    "    ticker_series_2 = df[ticker_2]\n",
    "\n",
    "    spread = ticker_series_2 - (spread_stats[f\"{ticker_1}_{ticker_2}\"][\"slope\"] * ticker_series_1 + spread_stats[f\"{ticker_1}_{ticker_2}\"][\"intercept\"])\n",
    "\n",
    "    upper_bound = spread_stats[f\"{ticker_1}_{ticker_2}\"][\"mean\"] + spread_stats[f\"{ticker_1}_{ticker_2}\"][\"std\"]\n",
    "    lower_bound = spread_stats[f\"{ticker_1}_{ticker_2}\"][\"mean\"] - spread_stats[f\"{ticker_1}_{ticker_2}\"][\"std\"]\n",
    "\n",
    "    # Generate signals & compute P&L"
   ]
  },
  {
   "cell_type": "code",
   "execution_count": null,
   "metadata": {},
   "outputs": [],
   "source": [
    "# Generate P&L and success metrics"
   ]
  }
 ],
 "metadata": {
  "kernelspec": {
   "display_name": "your-env-name",
   "language": "python",
   "name": "your-env-name"
  },
  "language_info": {
   "codemirror_mode": {
    "name": "ipython",
    "version": 3
   },
   "file_extension": ".py",
   "mimetype": "text/x-python",
   "name": "python",
   "nbconvert_exporter": "python",
   "pygments_lexer": "ipython3",
   "version": "3.12.4"
  }
 },
 "nbformat": 4,
 "nbformat_minor": 2
}
